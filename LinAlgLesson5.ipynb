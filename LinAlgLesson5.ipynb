{
 "cells": [
  {
   "cell_type": "markdown",
   "id": "7cd52698-0983-4da9-9965-2f90d7747167",
   "metadata": {
    "id": "88Mbd_tGCzso"
   },
   "source": [
    "## Практическое задание 5."
   ]
  },
  {
   "cell_type": "markdown",
   "id": "d1cb0d66-5591-42a7-9da0-fc7eee0875dc",
   "metadata": {
    "id": "aoo5c_Q0Czsp"
   },
   "source": [
    "1. Найдите посредством NumPy SVD для матрицы:\n",
    "\n",
    "$$\\begin{pmatrix}\n",
    "1 & 2 & 0\\\\ \n",
    "0 & 0 & 5\\\\ \n",
    "3 & -4 & 2\\\\ \n",
    "1 & 6 & 5\\\\ \n",
    "0 & 1 & 0\n",
    "\\end{pmatrix}.$$\n",
    "\n",
    "\n",
    "2. Для матрицы из предыдущего задания найдите:\n",
    "\n",
    "    а) евклидову норму;\n",
    "    \n",
    "    б) норму Фробениуса."
   ]
  },
  {
   "cell_type": "code",
   "execution_count": 44,
   "id": "e9ba56e5-4c68-4af6-9b26-51afafc84364",
   "metadata": {},
   "outputs": [],
   "source": [
    "import numpy as np\n",
    "np.set_printoptions(precision=0, suppress=True)"
   ]
  },
  {
   "cell_type": "code",
   "execution_count": 45,
   "id": "bfc19784-26a6-41d6-8c23-1bda17d9de52",
   "metadata": {},
   "outputs": [
    {
     "name": "stdout",
     "output_type": "stream",
     "text": [
      "Матрица A:\n",
      "[[ 1  2  0]\n",
      " [ 0  0  5]\n",
      " [ 3 -4  2]\n",
      " [ 1  6  5]\n",
      " [ 0  1  0]]\n"
     ]
    }
   ],
   "source": [
    "A = np.array([[1, 2, 0],[0, 0, 5],[3, -4, 2],[1, 6, 5],[0, 1, 0]])\n",
    "print(f'Матрица A:\\n{A}')"
   ]
  },
  {
   "cell_type": "code",
   "execution_count": 46,
   "id": "6ba98b1a-d188-48e1-b6b1-1bb675803510",
   "metadata": {},
   "outputs": [
    {
     "name": "stdout",
     "output_type": "stream",
     "text": [
      "Матрица D:\n",
      "[[9. 0. 0.]\n",
      " [0. 6. 0.]\n",
      " [0. 0. 3.]\n",
      " [0. 0. 0.]\n",
      " [0. 0. 0.]]\n"
     ]
    }
   ],
   "source": [
    "U, s, W = np.linalg.svd(A)\n",
    "V = W.T\n",
    "\n",
    "D = np.zeros_like(A, dtype=float)\n",
    "D[np.diag_indices(min(A.shape))] = s\n",
    "\n",
    "print(f'Матрица D:\\n{D}')"
   ]
  },
  {
   "cell_type": "code",
   "execution_count": 47,
   "id": "3ecacbd8-83d7-4d21-9aaf-5f5ace97288f",
   "metadata": {},
   "outputs": [
    {
     "name": "stdout",
     "output_type": "stream",
     "text": [
      "Матрица U:\n",
      "[[ 0.  0. -1. -1. -0.]\n",
      " [ 0. -1.  1. -0.  0.]\n",
      " [-0. -1. -1.  0.  0.]\n",
      " [ 1.  0. -0.  0. -0.]\n",
      " [ 0.  0. -0. -0.  1.]]\n"
     ]
    }
   ],
   "source": [
    "print(f'Матрица U:\\n{U}')"
   ]
  },
  {
   "cell_type": "code",
   "execution_count": 48,
   "id": "f76021a9-a2ea-4daf-8485-a89457aa4bcc",
   "metadata": {},
   "outputs": [
    {
     "name": "stdout",
     "output_type": "stream",
     "text": [
      "Матрица V:\n",
      "[[ 0. -0. -1.]\n",
      " [ 1.  1. -0.]\n",
      " [ 1. -1.  0.]]\n"
     ]
    }
   ],
   "source": [
    "print(f'Матрица V:\\n{V}')"
   ]
  },
  {
   "cell_type": "code",
   "execution_count": 49,
   "id": "506764b8-d45f-41e0-82d7-3ecfc428ff0d",
   "metadata": {},
   "outputs": [
    {
     "name": "stdout",
     "output_type": "stream",
     "text": [
      "[[ 1.  2. -0.]\n",
      " [-0.  0.  5.]\n",
      " [ 3. -4.  2.]\n",
      " [ 1.  6.  5.]\n",
      " [ 0.  1.  0.]]\n"
     ]
    }
   ],
   "source": [
    "print(np.dot(np.dot(U, D), V.T))"
   ]
  },
  {
   "cell_type": "markdown",
   "id": "edb4d3b3-9465-4491-8a13-93fec4f61066",
   "metadata": {},
   "source": [
    "Евклидова норма матрицы равна евклидовой норме диагональной матрицы из её сингулярных чисел $D$.Максимальное значение полученного отношения будет равно максимальному сингулярному числу $\\mu_{max}$."
   ]
  },
  {
   "cell_type": "markdown",
   "id": "6e2aafca-fc16-41c9-8047-1e9b4ac65197",
   "metadata": {},
   "source": [
    "$$\\left \\| A \\right \\|_{E}=\\mu_{max}$$"
   ]
  },
  {
   "cell_type": "code",
   "execution_count": 58,
   "id": "be61fe64-59a7-4fc0-a0c7-c53e5125c549",
   "metadata": {},
   "outputs": [],
   "source": [
    "from scipy.linalg import svdvals, norm"
   ]
  },
  {
   "cell_type": "code",
   "execution_count": 59,
   "id": "56412734-738b-4b94-9d35-36624c369649",
   "metadata": {},
   "outputs": [
    {
     "data": {
      "text/plain": [
       "8.824868854820448"
      ]
     },
     "execution_count": 59,
     "metadata": {},
     "output_type": "execute_result"
    }
   ],
   "source": [
    "norm(D, 2)"
   ]
  },
  {
   "cell_type": "code",
   "execution_count": 60,
   "id": "b3f2690a-eac0-4ea1-86d0-dea368a3ddba",
   "metadata": {},
   "outputs": [
    {
     "data": {
      "text/plain": [
       "array([[9.],\n",
       "       [6.],\n",
       "       [3.]])"
      ]
     },
     "execution_count": 60,
     "metadata": {},
     "output_type": "execute_result"
    }
   ],
   "source": [
    "a_d = svdvals(A)\n",
    "d = a_d.reshape(3,1)\n",
    "d"
   ]
  },
  {
   "cell_type": "code",
   "execution_count": 61,
   "id": "5ac2b282-4779-449e-b211-5ed2a314c09c",
   "metadata": {
    "tags": []
   },
   "outputs": [
    {
     "data": {
      "text/plain": [
       "8.824868854820442"
      ]
     },
     "execution_count": 61,
     "metadata": {},
     "output_type": "execute_result"
    }
   ],
   "source": [
    "norm(d, np.inf)"
   ]
  },
  {
   "cell_type": "markdown",
   "id": "f7208111-d76a-4c89-83b3-ac59e53a4a2c",
   "metadata": {},
   "source": [
    "Когда известно сингулярное разложение матрицы, её норма Фробениуса вычисляется как:"
   ]
  },
  {
   "cell_type": "markdown",
   "id": "d711981f-db7e-4262-9486-f49187618018",
   "metadata": {},
   "source": [
    "$$\\left \\| A \\right \\|_{F}=\\sqrt{\\sum_{k=1}^{r}\\mu_{k}^{2}}=\\sqrt{9^{2}+6^{2}+3^{2}}=11,225$$"
   ]
  },
  {
   "cell_type": "code",
   "execution_count": 62,
   "id": "028dfee6-dc3b-45e5-9314-f493321d0a14",
   "metadata": {},
   "outputs": [
    {
     "data": {
      "text/plain": [
       "11.04536101718726"
      ]
     },
     "execution_count": 62,
     "metadata": {},
     "output_type": "execute_result"
    }
   ],
   "source": [
    "norm(d, 'fro')"
   ]
  },
  {
   "cell_type": "code",
   "execution_count": null,
   "id": "dd5a77b6-890a-44ed-a1c7-566dfe336c55",
   "metadata": {},
   "outputs": [],
   "source": []
  }
 ],
 "metadata": {
  "kernelspec": {
   "display_name": "Python 3 (ipykernel)",
   "language": "python",
   "name": "python3"
  },
  "language_info": {
   "codemirror_mode": {
    "name": "ipython",
    "version": 3
   },
   "file_extension": ".py",
   "mimetype": "text/x-python",
   "name": "python",
   "nbconvert_exporter": "python",
   "pygments_lexer": "ipython3",
   "version": "3.9.7"
  }
 },
 "nbformat": 4,
 "nbformat_minor": 5
}
