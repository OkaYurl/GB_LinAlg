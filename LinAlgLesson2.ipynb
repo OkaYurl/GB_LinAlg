{
 "cells": [
  {
   "cell_type": "markdown",
   "id": "6f9e02cf-b785-4e3a-87e8-c9fbad23b871",
   "metadata": {},
   "source": [
    "# Практическое задание 2.1"
   ]
  },
  {
   "cell_type": "code",
   "execution_count": 21,
   "id": "c434e37e-3cba-45ff-a94f-af157bea44fd",
   "metadata": {},
   "outputs": [
    {
     "name": "stdout",
     "output_type": "stream",
     "text": [
      "Requirement already satisfied: numpy in c:\\users\\okayu\\appdata\\local\\programs\\python\\python39\\lib\\site-packages (1.22.4)\n",
      "Note: you may need to restart the kernel to use updated packages.\n"
     ]
    },
    {
     "name": "stderr",
     "output_type": "stream",
     "text": [
      "WARNING: You are using pip version 21.2.3; however, version 22.1.2 is available.\n",
      "You should consider upgrading via the 'C:\\Users\\okayu\\AppData\\Local\\Programs\\Python\\Python39\\python.exe -m pip install --upgrade pip' command.\n"
     ]
    }
   ],
   "source": [
    "pip install numpy"
   ]
  },
  {
   "cell_type": "code",
   "execution_count": 22,
   "id": "709e2bb1-8d43-46a0-accf-2a8c62c8efe0",
   "metadata": {},
   "outputs": [],
   "source": [
    "import numpy as np"
   ]
  },
  {
   "cell_type": "markdown",
   "id": "2e38e0e8-fcda-4a16-944f-e7bedd39d4f0",
   "metadata": {
    "id": "APeDlmh8IIL1"
   },
   "source": [
    "\n",
    "\n",
    "__1.__ Установите, какие произведения матриц $AB$ и $BA$ определены, и найдите размерности полученных матриц:\n",
    "\n",
    "   а) $A$ — матрица $4\\times 2$, $B$ — матрица $4\\times 2$;\n",
    "    \n",
    "   б) $A$ — матрица $2\\times 5$, $B$ — матрица $5\\times 3$;\n",
    "    \n",
    "   в) $A$ — матрица $8\\times 3$, $B$ — матрица $3\\times 8$;\n",
    "    \n",
    "   г) $A$ — квадратная матрица $4\\times 4$, $B$ — квадратная матрица $4\\times 4$.\n",
    "    \n",
    "__2.__ Найдите сумму и произведение матриц $A=\\begin{pmatrix}\n",
    "1 & -2\\\\ \n",
    "3 & 0\n",
    "\\end{pmatrix}$ и $B=\\begin{pmatrix}\n",
    "4 & -1\\\\ \n",
    "0 & 5\n",
    "\\end{pmatrix}.$\n",
    "\n",
    "__3.__ Из закономерностей сложения и умножения матриц на число можно сделать вывод, что матрицы одного размера образуют линейное пространство. Вычислите линейную комбинацию $3A-2B+4C$ для матриц $A=\\begin{pmatrix}\n",
    "1 & 7\\\\ \n",
    "3 & -6\n",
    "\\end{pmatrix}$, $B=\\begin{pmatrix}\n",
    "0 & 5\\\\ \n",
    "2 & -1\n",
    "\\end{pmatrix}$, $C=\\begin{pmatrix}\n",
    "2 & -4\\\\ \n",
    "1 & 1\n",
    "\\end{pmatrix}.$\n",
    "    \n",
    "__4.__ Дана матрица $A=\\begin{pmatrix}\n",
    "4 & 1\\\\ \n",
    "5 & -2\\\\ \n",
    "2 & 3\n",
    "\\end{pmatrix}$.\n",
    "Вычислите $AA^{T}$ и $A^{T}A$.\n",
    "\n",
    "__5*.__ Напишите на Python функцию для перемножения двух произвольных матриц, не используя NumPy."
   ]
  },
  {
   "cell_type": "markdown",
   "id": "cf806197-2ddf-48d9-bd67-2b4f1cbccec0",
   "metadata": {},
   "source": [
    "## 1."
   ]
  },
  {
   "cell_type": "markdown",
   "id": "98ab7d2a-e4e9-4242-9939-db40a2ce6b7b",
   "metadata": {},
   "source": [
    "a) A(4x2)*B(4x2) определено, размерность (4,2) \\\n",
    "   В(4x2)*A(4x2) не определено - число столбцов В не равно числу строк А"
   ]
  },
  {
   "cell_type": "markdown",
   "id": "a3309659-3c45-473c-a98e-bc7bd13555a2",
   "metadata": {},
   "source": [
    "б) A(2x5)*B(5x3) определено, размерность (2,3) \\\n",
    "   В(5x3)*A(2x5) не определено - число столбцов В не равно числу строк А"
   ]
  },
  {
   "cell_type": "markdown",
   "id": "01d744e9-12a1-4600-8ca2-bef14fd4f477",
   "metadata": {},
   "source": [
    "в) A(8x3)*B(3x8) определено, размерность (8,8) \\\n",
    "   В(3x8)*A(8x3) определено, размерность (3,3)"
   ]
  },
  {
   "cell_type": "markdown",
   "id": "083e41a6-58d8-488e-928e-5da878e31026",
   "metadata": {},
   "source": [
    "г) A(4x4)*B(4x4) определено, размерность (4,4) \\\n",
    "   В(4x4)*A(4x4) определено, размерность (4,4)"
   ]
  },
  {
   "cell_type": "markdown",
   "id": "6308a9f5-160e-4f55-8e94-ae09bd9e2163",
   "metadata": {},
   "source": [
    "# 2."
   ]
  },
  {
   "cell_type": "markdown",
   "id": "4c7265b4-6b8a-4d02-a731-a3032bddb295",
   "metadata": {},
   "source": [
    "$A=\\begin{pmatrix}\n",
    "1 & -2\\\\ \n",
    "3 & 0\n",
    "\\end{pmatrix}$ + $B=\\begin{pmatrix}\n",
    "4 & -1\\\\ \n",
    "0 & 5\n",
    "\\end{pmatrix}$ = $\\begin{pmatrix}\n",
    "5 & -3\\\\ \n",
    "3 & 5\n",
    "\\end{pmatrix}$"
   ]
  },
  {
   "cell_type": "markdown",
   "id": "6bcf305a-0182-4eef-9d8d-c94c073fe026",
   "metadata": {},
   "source": [
    "$A=\\begin{pmatrix}\n",
    "1 & -2\\\\ \n",
    "3 & 0\n",
    "\\end{pmatrix}$ * $B=\\begin{pmatrix}\n",
    "4 & -1\\\\ \n",
    "0 & 5\n",
    "\\end{pmatrix}$ = $\\begin{pmatrix}\n",
    "4 & -11\\\\ \n",
    "12 & -3\n",
    "\\end{pmatrix}$"
   ]
  },
  {
   "cell_type": "code",
   "execution_count": 23,
   "id": "3fcd94c0-7451-4d84-978d-726cf1078261",
   "metadata": {},
   "outputs": [
    {
     "name": "stdout",
     "output_type": "stream",
     "text": [
      "Матрица A + B\n",
      "[[ 5 -3]\n",
      " [ 3  5]]\n",
      "Матрица AB\n",
      "[[  4 -11]\n",
      " [ 12  -3]]\n"
     ]
    }
   ],
   "source": [
    "A = np.array([[1, -2], [3, 0]])\n",
    "B = np.array([[4, -1], [0, 5]])\n",
    "print(f'Матрица A + B\\n{A + B}')\n",
    "print(f'Матрица AB\\n{np.dot(A, B)}')"
   ]
  },
  {
   "cell_type": "markdown",
   "id": "8a9965ee-cbe8-4eea-9e93-19412c1da38a",
   "metadata": {},
   "source": [
    "# 3."
   ]
  },
  {
   "cell_type": "markdown",
   "id": "a8bcbd0e-059e-4752-9789-fc1e016aa2e9",
   "metadata": {},
   "source": [
    "3 * $\\begin{pmatrix}\n",
    "1 & 7\\\\ \n",
    "3 & -6\n",
    "\\end{pmatrix}$ - 2 * $\\begin{pmatrix}\n",
    "0 & 5\\\\ \n",
    "2 & -1\n",
    "\\end{pmatrix}$ + 4 * $\\begin{pmatrix}\n",
    "2 & -4\\\\ \n",
    "1 & 1\n",
    "\\end{pmatrix}$ = $\\begin{pmatrix}\n",
    "3 & 21\\\\ \n",
    "9 & -18\n",
    "\\end{pmatrix}$ - $\\begin{pmatrix}\n",
    "0 & 10\\\\ \n",
    "4 & -2\n",
    "\\end{pmatrix}$ + $\\begin{pmatrix}\n",
    "8 & -16\\\\ \n",
    "4 & 4\n",
    "\\end{pmatrix}$ = $\\begin{pmatrix}\n",
    "11 & -5\\\\ \n",
    "9 & -12\n",
    "\\end{pmatrix}$"
   ]
  },
  {
   "cell_type": "code",
   "execution_count": 24,
   "id": "1366e3e5-6aa0-460b-a0c0-9cae9ae3fb1d",
   "metadata": {},
   "outputs": [
    {
     "name": "stdout",
     "output_type": "stream",
     "text": [
      "Матрица 3*А-2*B+4*C\n",
      "[[ 11  -5]\n",
      " [  9 -12]]\n"
     ]
    }
   ],
   "source": [
    "A = np.array([[1, 7], [3, -6]])\n",
    "B = np.array([[0, 5], [2, -1]])\n",
    "C = np.array([[2, -4], [1, 1]])\n",
    "\n",
    "print(f'Матрица 3*А-2*B+4*C\\n{3*A-2*B+4*C}')"
   ]
  },
  {
   "cell_type": "markdown",
   "id": "cf595ad7-0a69-4eed-a35a-566467637472",
   "metadata": {
    "tags": []
   },
   "source": [
    "# 4."
   ]
  },
  {
   "cell_type": "markdown",
   "id": "49d5ecdb-18c3-4858-bf11-130d3ddd0bf9",
   "metadata": {},
   "source": [
    "$A=\\begin{pmatrix}\n",
    "4 & 1\\\\ \n",
    "5 & -2\\\\\n",
    "2 & 3\n",
    "\\end{pmatrix}$  $A.T=\\begin{pmatrix}\n",
    "4 & 5 & 2\\\\ \n",
    "1 & -2 & 3\n",
    "\\end{pmatrix}$"
   ]
  },
  {
   "cell_type": "code",
   "execution_count": 25,
   "id": "f6e275d9-6842-45d0-b331-3f4ffe836fbd",
   "metadata": {},
   "outputs": [
    {
     "name": "stdout",
     "output_type": "stream",
     "text": [
      "Матрица:\n",
      "[[ 4  1]\n",
      " [ 5 -2]\n",
      " [ 2  3]]\n",
      "Транспонированная матрица:\n",
      "[[ 4  5  2]\n",
      " [ 1 -2  3]]\n"
     ]
    }
   ],
   "source": [
    "A = np.array([[4, 1], [5, -2], [2, 3]])\n",
    "\n",
    "print(f'Матрица:\\n{A}')\n",
    "print(f'Транспонированная матрица:\\n{A.T}')"
   ]
  },
  {
   "cell_type": "code",
   "execution_count": 26,
   "id": "f16c6198-caa4-4c05-b867-e71e38fc712a",
   "metadata": {},
   "outputs": [
    {
     "name": "stdout",
     "output_type": "stream",
     "text": [
      "Матрица A*A.T\n",
      "[[17 18 11]\n",
      " [18 29  4]\n",
      " [11  4 13]]\n",
      "Матрица A.T*A\n",
      "[[45  0]\n",
      " [ 0 14]]\n"
     ]
    }
   ],
   "source": [
    "print(f'Матрица A*A.T\\n{np.dot(A, A.T)}')\n",
    "print(f'Матрица A.T*A\\n{np.dot(A.T, A)}')"
   ]
  },
  {
   "cell_type": "markdown",
   "id": "91cae73e-108c-4179-867f-7cb5ade04100",
   "metadata": {},
   "source": [
    "# 5."
   ]
  },
  {
   "cell_type": "code",
   "execution_count": 27,
   "id": "686faa57-0071-4436-8c0e-f254de5aaa65",
   "metadata": {},
   "outputs": [
    {
     "name": "stdout",
     "output_type": "stream",
     "text": [
      "Матрица AB\n",
      "[[4, -11], [12, -3]]\n"
     ]
    }
   ],
   "source": [
    "def matrixmult (A, B):\n",
    "    C = [[0 for row in range(len(B[0]))] for col in range(len(A))]\n",
    "    for i in range(len(A)):\n",
    "        for j in range(len(B[0])):\n",
    "            for k in range(len(B)):\n",
    "                C[i][j] += A[i][k]*B[k][j]\n",
    "    return C\n",
    "\n",
    "X = np.array([[1, -2], [3, 0]])\n",
    "Y = np.array([[4, -1], [0, 5]])\n",
    "print(f'Матрица AB\\n{matrixmult(X, Y)}')"
   ]
  },
  {
   "cell_type": "markdown",
   "id": "e4145d7c-4b7a-471d-9376-e48ed633937b",
   "metadata": {},
   "source": [
    "# Практическое задание 2.2"
   ]
  },
  {
   "cell_type": "markdown",
   "id": "2bc56eed-56c1-45f5-b0cb-8602c864fca4",
   "metadata": {
    "id": "H3qXQfJ-WtUp"
   },
   "source": [
    "\n",
    "\n",
    "__1.__ Вычислите определитель:\n",
    "\n",
    "   a)\n",
    "\n",
    "$$\\begin{vmatrix}\n",
    "sinx & -cosx\\\\ \n",
    "cosx & sinx\n",
    "\\end{vmatrix};$$\n",
    "\n",
    "   б)\n",
    "    \n",
    "$$\\begin{vmatrix}\n",
    "4 & 2 & 3\\\\ \n",
    "0 & 5 & 1\\\\ \n",
    "0 & 0 & 9\n",
    "\\end{vmatrix};$$\n",
    "    \n",
    "   в)\n",
    "\n",
    "$$\\begin{vmatrix}\n",
    "1 & 2 & 3\\\\ \n",
    "4 & 5 & 6\\\\ \n",
    "7 & 8 & 9\n",
    "\\end{vmatrix}.$$\n",
    "\n",
    "\n",
    "__2.__ Определитель матрицы $A$ равен $4$. Найдите:\n",
    "\n",
    "   а) $det(A^{2})$;\n",
    "    \n",
    "   б) $det(A^{T})$;\n",
    "    \n",
    "   в) $det(2A)$.\n",
    "   \n",
    "__3.__  Докажите, что матрица:\n",
    "\n",
    "$$\\begin{pmatrix}\n",
    "-2 & 7 & -3\\\\ \n",
    "4 & -14 & 6\\\\ \n",
    "-3 & 7 & 13\n",
    "\\end{pmatrix}$$\n",
    "   \n",
    "вырожденная.\n",
    "\n",
    "__4.__ Найдите ранг матрицы:\n",
    "\n",
    "   а) $\\begin{pmatrix}\n",
    "1 & 2 & 3\\\\ \n",
    "1 & 1 & 1\\\\ \n",
    "2 & 3 & 4\n",
    "\\end{pmatrix};$\n",
    "\n",
    "   б) $\\begin{pmatrix}\n",
    "0 & 0 & 2 & 1\\\\ \n",
    "0 & 0 & 2 & 2\\\\ \n",
    "0 & 0 & 4 & 3\\\\ \n",
    "2 & 3 & 5 & 6\n",
    "\\end{pmatrix}.$"
   ]
  },
  {
   "cell_type": "markdown",
   "id": "ed54ce5e-2e2c-41ba-a69d-0431c4a448b4",
   "metadata": {},
   "source": [
    "# 1."
   ]
  },
  {
   "cell_type": "markdown",
   "id": "6eb09031-7398-43d6-8f99-628de1fd2fea",
   "metadata": {},
   "source": [
    "a)\n",
    "\n",
    "$\\begin{vmatrix}\n",
    "sinx & -cosx\\\\ \n",
    "cosx & sinx\n",
    "\\end{vmatrix} = sin^{2}x + cos^{2}x = 1$"
   ]
  },
  {
   "cell_type": "markdown",
   "id": "335f8741-fc17-4a38-848f-f0afb48a1671",
   "metadata": {},
   "source": [
    "б)\n",
    "    \n",
    "$\\begin{vmatrix}\n",
    "4 & 2 & 3\\\\ \n",
    "0 & 5 & 1\\\\ \n",
    "0 & 0 & 9\n",
    "\\end{vmatrix} = 180+0+0-0-0-0 = 180$"
   ]
  },
  {
   "cell_type": "markdown",
   "id": "f9a21e5b-3ebf-4ea1-9e79-fc8b60d3741b",
   "metadata": {},
   "source": [
    "в)\n",
    "\n",
    "$\\begin{vmatrix}\n",
    "1 & 2 & 3\\\\ \n",
    "4 & 5 & 6\\\\ \n",
    "7 & 8 & 9\n",
    "\\end{vmatrix} = 45 + 84 +96 - 105 - 48 -72 = 225 -225 = 0$"
   ]
  },
  {
   "cell_type": "code",
   "execution_count": 28,
   "id": "7a462f0c-3f81-4328-a8c0-a53d5d74e00d",
   "metadata": {},
   "outputs": [
    {
     "name": "stdout",
     "output_type": "stream",
     "text": [
      "Определитель:\n",
      "180\n"
     ]
    }
   ],
   "source": [
    "a = np.array([[4, 2, 3], [0, 5, 1], [0, 0, 9]])\n",
    "\n",
    "print(f'Определитель:\\n{np.linalg.det(a):.0f}')"
   ]
  },
  {
   "cell_type": "code",
   "execution_count": 29,
   "id": "fc85ef37-bfb6-40ba-b4cd-fa570ba6b6f5",
   "metadata": {},
   "outputs": [
    {
     "name": "stdout",
     "output_type": "stream",
     "text": [
      "Определитель:\n",
      "0\n"
     ]
    }
   ],
   "source": [
    "a = np.array([[1, 2, 3], [4, 5, 6], [7, 8, 9]])\n",
    "\n",
    "print(f'Определитель:\\n{np.linalg.det(a):.0f}')"
   ]
  },
  {
   "cell_type": "markdown",
   "id": "8b53a0f6-9ec9-402c-8578-c79d46a81d4e",
   "metadata": {},
   "source": [
    "# 2."
   ]
  },
  {
   "cell_type": "markdown",
   "id": "f3b464d0-f5fb-43ec-b307-cbc4cf724949",
   "metadata": {},
   "source": [
    "а) $det(A^{2}) = (detA)^{2} = 4^{2} = 16$"
   ]
  },
  {
   "cell_type": "markdown",
   "id": "817e4abb-6bd2-41a1-903f-e4f59982a0e4",
   "metadata": {},
   "source": [
    "б) $det(A^{T}) = detA = 4$"
   ]
  },
  {
   "cell_type": "markdown",
   "id": "566744f7-c98e-4594-9943-03d5149a643b",
   "metadata": {},
   "source": [
    "в) $det(2A) = 2^{n} * detA = 2^{n+2}$ , где n - порядок матрицы"
   ]
  },
  {
   "cell_type": "markdown",
   "id": "4ad75ae0-f180-431e-b02a-a5951d4889b9",
   "metadata": {},
   "source": [
    "# 3."
   ]
  },
  {
   "cell_type": "markdown",
   "id": "d2fb3fd3-376b-455f-a510-51772389dd5e",
   "metadata": {},
   "source": [
    "$\\begin{vmatrix}\n",
    "-2 & 7 & -3\\\\ \n",
    "4 & -14 & 6\\\\ \n",
    "-3 & 7 & 13\n",
    "\\end{vmatrix} => \\begin{vmatrix}\n",
    "0 & 0 & 0\\\\ \n",
    "4 & -14 & 6\\\\ \n",
    "-3 & 7 & 13\n",
    "\\end{vmatrix} = 0$ если определитель 0, матрица вырожденная"
   ]
  },
  {
   "cell_type": "markdown",
   "id": "9fb654cf-fee3-4b60-a86c-9848f5d830cf",
   "metadata": {},
   "source": [
    "# 4."
   ]
  },
  {
   "cell_type": "markdown",
   "id": "33e081e4-0ff8-46f6-ac2c-a6a0936f817d",
   "metadata": {},
   "source": [
    "а) $\\begin{pmatrix}\n",
    "1 & 2 & 3\\\\ \n",
    "1 & 1 & 1\\\\ \n",
    "2 & 3 & 4\n",
    "\\end{pmatrix} => \\begin{pmatrix}\n",
    "1 & 2 & 3\\\\ \n",
    "1 & 1 & 1\\\\ \n",
    "0 & 0 & 0\n",
    "\\end{pmatrix}$ ранг 2"
   ]
  },
  {
   "cell_type": "markdown",
   "id": "2cdfae2c-966f-4dd0-b4e7-6db26be74959",
   "metadata": {},
   "source": [
    "б) $\\begin{pmatrix}\n",
    "0 & 0 & 2 & 1\\\\ \n",
    "0 & 0 & 2 & 2\\\\ \n",
    "0 & 0 & 4 & 3\\\\ \n",
    "2 & 3 & 5 & 6\n",
    "\\end{pmatrix} => $ ранг 4"
   ]
  },
  {
   "cell_type": "code",
   "execution_count": null,
   "id": "26f19aea-ca57-4b93-9355-e94a1af4b961",
   "metadata": {},
   "outputs": [],
   "source": []
  }
 ],
 "metadata": {
  "kernelspec": {
   "display_name": "Python 3 (ipykernel)",
   "language": "python",
   "name": "python3"
  },
  "language_info": {
   "codemirror_mode": {
    "name": "ipython",
    "version": 3
   },
   "file_extension": ".py",
   "mimetype": "text/x-python",
   "name": "python",
   "nbconvert_exporter": "python",
   "pygments_lexer": "ipython3",
   "version": "3.9.7"
  }
 },
 "nbformat": 4,
 "nbformat_minor": 5
}
