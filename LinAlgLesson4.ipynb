{
 "cells": [
  {
   "cell_type": "markdown",
   "id": "203d4a82-c05e-4a5c-8f56-8a7281a1ca0c",
   "metadata": {
    "id": "J2D422I0ZS5N"
   },
   "source": [
    "## Практическое задание 4_1."
   ]
  },
  {
   "cell_type": "markdown",
   "id": "fa0cdfe3-cd54-43cf-a382-e23d6e74eb7e",
   "metadata": {
    "id": "cTVfl123ZS5O"
   },
   "source": [
    "__1.__ Решите систему уравнений методом Гаусса:\n",
    "\n",
    "$$\\begin{cases}\n",
    "x_{1}+x_{2}-x_{3}-2x_{4}=0, \\\\\n",
    "2x_{1}+x_{2}-x_{3}+x_{4}=-2, \\\\\n",
    "x_{1}+x_{2}-3x_{3}+x_{4}=4.\n",
    "\\end{cases}$$\n",
    "\n",
    "__2.__ Проверьте на совместность и выясните, сколько решений будет иметь система линейных уравнений:\n",
    "\n",
    "   а) $\\begin{cases}\n",
    "3x_{1}-x_{2}+x_{3}=4, \\\\\n",
    "2x_{1}-5x_{2}-3x_{3}=-17, \\\\\n",
    "x_{1}+x_{2}-x_{3}=0;\n",
    "\\end{cases}$\n",
    "    \n",
    "   б) $\\begin{cases}\n",
    "2x_{1}-4x_{2}+6x_{3}=1, \\\\\n",
    "x_{1}-2x_{2}+3x_{3}=-2, \\\\\n",
    "3x_{1}-6x_{2}+9x_{3}=5;\n",
    "\\end{cases}$\n",
    "    \n",
    "   в) $\\begin{cases}\n",
    "x_{1}+2x_{2}+5x_{3}=4, \\\\\n",
    "3x_{1}+x_{2}-8x_{3}=-2. \n",
    "\\end{cases}$\n",
    "\n",
    "\n",
    "__3.__ Проверьте на совместность и выясните, сколько решений будет иметь система линейных уравнений, заданная расширенной матрицей:\n",
    "\n",
    "$$\\tilde{A}=\\begin{pmatrix}\n",
    "\\left.\\begin{matrix}\n",
    "1 & 3 & -2 & 4\\\\ \n",
    "0 & 5 & 0 & 1\\\\ \n",
    "0 & 0 & 3 & 0\\\\ \n",
    "0 & 0 & 0 & 2\n",
    "\\end{matrix}\\right|\n",
    "\\begin{matrix}\n",
    "3\\\\ \n",
    "2\\\\\n",
    "4\\\\\n",
    "1\n",
    "\\end{matrix}\n",
    "\\end{pmatrix}.$$\n",
    "\n",
    "__4.__ Дана система линейных уравнений, заданная расширенной матрицей:\n",
    "\n",
    "$$\\tilde{A}=\\begin{pmatrix}\n",
    "\\left.\\begin{matrix}\n",
    "1 & 2 & 3\\\\ \n",
    "4 & 5 & 6\\\\ \n",
    "7 & 8 & 9\n",
    "\\end{matrix}\\right|\n",
    "\\begin{matrix}\n",
    "a\\\\ \n",
    "b\\\\\n",
    "c\n",
    "\\end{matrix}\n",
    "\\end{pmatrix}.$$\n",
    "\n",
    "Найдите соотношение между параметрами $a$, $b$ и $c$, при которых система считается несовместной."
   ]
  },
  {
   "cell_type": "markdown",
   "id": "b181b71f-f5fd-413e-b7a2-35c169d6ad5c",
   "metadata": {},
   "source": [
    "## 1."
   ]
  },
  {
   "cell_type": "markdown",
   "id": "d6a7331b-70c0-4a89-83f7-f530a510e0ae",
   "metadata": {
    "id": "dbHHnsVvZS4u"
   },
   "source": [
    "Число уравнений меньше числа неизвестных, поэтому система уравнений недоопределённая."
   ]
  },
  {
   "cell_type": "markdown",
   "id": "aab6c477-edb6-4657-ab05-ccd83c7abdd4",
   "metadata": {
    "id": "czB6XYWIZS3b"
   },
   "source": [
    "\n",
    "$\\begin{cases}\n",
    "x_{1}+x_{2}-x_{3}-2x_{4}=0, \\\\\n",
    "2x_{1}+x_{2}-x_{3}+x_{4}=-2, \\\\\n",
    "x_{1}+x_{2}-3x_{3}+x_{4}=4.\n",
    "\\end{cases}$"
   ]
  },
  {
   "cell_type": "markdown",
   "id": "74d4fafe-9486-4081-a226-4b4e8027cd44",
   "metadata": {
    "id": "YR00kYwJZS3e"
   },
   "source": [
    "$\\begin{pmatrix}\n",
    "\\left.\\begin{matrix}\n",
    "1 & 1 & -1 & -2\\\\ \n",
    "2 & 1 & -1 & 1\\\\ \n",
    "1 & 1 & -3 & 1\n",
    "\\end{matrix}\\right|\n",
    "\\begin{matrix}\n",
    "0\\\\ \n",
    "-2\\\\\n",
    "4\n",
    "\\end{matrix}\n",
    "\\end{pmatrix}.$\n",
    "\n",
    "Вычтем из третьей строки первую:\n",
    "\n",
    "$\\begin{pmatrix}\n",
    "\\left.\\begin{matrix}\n",
    "1 & 1 & -1 & -2\\\\ \n",
    "2 & 1 & -1 & 1\\\\ \n",
    "0 & 0 & -2 & 3\n",
    "\\end{matrix}\\right|\n",
    "\\begin{matrix}\n",
    "0\\\\ \n",
    "-2\\\\\n",
    "4\n",
    "\\end{matrix}\n",
    "\\end{pmatrix}.$\n",
    "\n",
    "Вычтем из второй строки первую, умноженную на 2:\n",
    "\n",
    "$\\begin{pmatrix}\n",
    "\\left.\\begin{matrix}\n",
    "1 & 1 & -1 & -2\\\\ \n",
    "0 & -1 & 1 & 5\\\\ \n",
    "0 & 0 & -2 & 3\n",
    "\\end{matrix}\\right|\n",
    "\\begin{matrix}\n",
    "0\\\\ \n",
    "-2\\\\\n",
    "4\n",
    "\\end{matrix}\n",
    "\\end{pmatrix}.$"
   ]
  },
  {
   "cell_type": "markdown",
   "id": "0d916c7e-0955-4301-a7ae-16406adf1dd2",
   "metadata": {
    "id": "dbHHnsVvZS4u"
   },
   "source": [
    "Матрица соответствует системе:\n",
    "\n",
    "$\\begin{cases}\n",
    "x_{1}+x_{2}-x_{3}-2x_{4}=0, \\\\\n",
    "~~ -x_{2}+x_{3}+5x_{4}=-2, \\\\\n",
    "~~  -2x_{3}+3x_{4}=4.\n",
    "\\end{cases}$"
   ]
  },
  {
   "cell_type": "markdown",
   "id": "9412cd0a-f42e-4d1f-8513-c40a36afd1e4",
   "metadata": {
    "id": "dbHHnsVvZS4u"
   },
   "source": [
    "В полученном ступенчатом виде мы имеем ступеньки из трех чисел, а не из четырех, как это требуется. В таком случае система имеет бесконечное количество решений.\n"
   ]
  },
  {
   "cell_type": "markdown",
   "id": "768b9d38-29f0-424f-adbb-e78689f4a06d",
   "metadata": {},
   "source": [
    "## 2."
   ]
  },
  {
   "cell_type": "markdown",
   "id": "2e5791cc-1024-4918-8269-daf14e858ea6",
   "metadata": {
    "id": "czB6XYWIZS3b"
   },
   "source": [
    "a)\n",
    "$\\begin{cases}\n",
    "3x_{1}-x_{2}+x_{3}=4, \\\\\n",
    "2x_{1}-5x_{2}-3x_{3}=-17, \\\\\n",
    "x_{1}+x_{2}-x_{3}=0.\n",
    "\\end{cases}$"
   ]
  },
  {
   "cell_type": "markdown",
   "id": "10b5a776-06c4-410b-8eee-90a47caf7002",
   "metadata": {
    "id": "YR00kYwJZS3e"
   },
   "source": [
    "\n",
    "$\\begin{pmatrix}\n",
    "\\left.\\begin{matrix}\n",
    "3 & -1 & 1 \\\\ \n",
    "2 & -5 & -3 \\\\ \n",
    "0 & 1 & -1\n",
    "\\end{matrix}\\right|\n",
    "\\begin{matrix}\n",
    "4\\\\ \n",
    "-17\\\\\n",
    "0\n",
    "\\end{matrix}\n",
    "\\end{pmatrix}.$\n",
    "\n",
    "\n",
    "$\\begin{pmatrix}\n",
    "\\left.\\begin{matrix}\n",
    "3 & -1 & 1 \\\\ \n",
    "2 & -5 & -3 \\\\ \n",
    "0 & 4 & -4\n",
    "\\end{matrix}\\right|\n",
    "\\begin{matrix}\n",
    "4\\\\ \n",
    "-17\\\\\n",
    "-4\n",
    "\\end{matrix}\n",
    "\\end{pmatrix}.$\n",
    "\n",
    "\n",
    "$\\begin{pmatrix}\n",
    "\\left.\\begin{matrix}\n",
    "3 & -1 & 1 \\\\ \n",
    "0 & -13 & -11 \\\\ \n",
    "0 & 4 & -4\n",
    "\\end{matrix}\\right|\n",
    "\\begin{matrix}\n",
    "4\\\\ \n",
    "-59\\\\\n",
    "-4\n",
    "\\end{matrix}\n",
    "\\end{pmatrix}.$\n",
    "\n",
    "\n",
    "$\\begin{pmatrix}\n",
    "\\left.\\begin{matrix}\n",
    "3 & -1 & 1 \\\\ \n",
    "0 & -13 & -11 \\\\ \n",
    "0 & 0 & -96\n",
    "\\end{matrix}\\right|\n",
    "\\begin{matrix}\n",
    "4\\\\ \n",
    "-59\\\\\n",
    "-288\n",
    "\\end{matrix}\n",
    "\\end{pmatrix}.$\n"
   ]
  },
  {
   "cell_type": "markdown",
   "id": "450224ad-6e7e-4e31-9b95-b0434591e712",
   "metadata": {
    "id": "dwCOyvgxZS3U"
   },
   "source": [
    "\n",
    "$$\\begin{cases}\n",
    "3x_{1}-x_{2}+x_{3}=4, \\\\\n",
    "~-13x_{2}-11x_{3}=-59, \\\\\n",
    "~~~~~~~~~~~~~~~~~-96x_{3}=-288.\n",
    "\\end{cases}$$\n",
    "\n",
    "\n",
    "$$x_{3}=3$$\n",
    "$$x_{2}=2$$\n",
    "$$x_{1}=1$$"
   ]
  },
  {
   "cell_type": "markdown",
   "id": "7fa5d9e4-7016-4e3e-b33e-e2dfca25bb85",
   "metadata": {
    "id": "czB6XYWIZS3b"
   },
   "source": [
    "б)\n",
    "$\\begin{cases}\n",
    "2x_{1}-4_{2}+6x_{3}=1, \\\\\n",
    "x_{1}-2x_{2}+3x_{3}=-2, \\\\\n",
    "3x_{1}-6x_{2}+9x_{3}=5.\n",
    "\\end{cases}$"
   ]
  },
  {
   "cell_type": "markdown",
   "id": "fa8c326a-c6cc-465e-baef-c4a40e9e6ae6",
   "metadata": {},
   "source": [
    "$\\begin{pmatrix}\n",
    "\\left.\\begin{matrix}\n",
    "2 & -4 & 6 \\\\ \n",
    "1 & -2 & 3 \\\\ \n",
    "3 & -6 & 9\n",
    "\\end{matrix}\\right|\n",
    "\\begin{matrix}\n",
    "1\\\\ \n",
    "-2\\\\\n",
    "5\n",
    "\\end{matrix}\n",
    "\\end{pmatrix}.$"
   ]
  },
  {
   "cell_type": "markdown",
   "id": "c63e67af-d6c3-4a12-a24a-2565deafdfec",
   "metadata": {},
   "source": [
    "Векторы коэффициентов первого столбца равны векторам коэффициентов третьего столбца, умноженных на 3. Таким образом, этими векторами образовано некое линейное подпространство, которому результирующий вектор не принадлежит. Система несовместна."
   ]
  },
  {
   "cell_type": "markdown",
   "id": "23a5b420-6ff1-4b38-9846-7473d0fc684c",
   "metadata": {
    "id": "czB6XYWIZS3b"
   },
   "source": [
    "в)\n",
    "$\\begin{cases}\n",
    "x_{1}+2_{2}+5x_{3}=4, \\\\\n",
    "3x_{1}+x_{2}-8x_{3}=-2.\n",
    "\\end{cases}$"
   ]
  },
  {
   "cell_type": "markdown",
   "id": "2a91bbe9-21ad-4864-b528-2481247193b2",
   "metadata": {
    "id": "dbHHnsVvZS4u"
   },
   "source": [
    "Число уравнений меньше числа неизвестных, поэтому система уравнений недоопределённая, имеет бесконечное количество решений, зависящих от переменной х3."
   ]
  },
  {
   "cell_type": "markdown",
   "id": "2912b746-1fd7-41af-a897-46ffceb81a5f",
   "metadata": {},
   "source": [
    "## 3."
   ]
  },
  {
   "cell_type": "markdown",
   "id": "1316aeca-ac13-4f67-bca9-fa1827fe7e42",
   "metadata": {},
   "source": [
    "попробовать функции Numpy"
   ]
  },
  {
   "cell_type": "code",
   "execution_count": 1,
   "id": "cce9b5de-e1a4-4c42-b4db-88cc195c74a0",
   "metadata": {},
   "outputs": [],
   "source": [
    "import numpy as np\n",
    "from numpy import linalg as LA"
   ]
  },
  {
   "cell_type": "code",
   "execution_count": 22,
   "id": "5d176f96-b95c-48c5-bc6c-63e9beed4f59",
   "metadata": {},
   "outputs": [
    {
     "data": {
      "text/plain": [
       "array([2.76666667, 0.3       , 1.33333333, 0.5       ])"
      ]
     },
     "execution_count": 22,
     "metadata": {},
     "output_type": "execute_result"
    }
   ],
   "source": [
    "a = np.array([[1, 3, -2, 4],[0, 5, 0, 1],[0, 0, 3, 0],[0, 0, 0, 2]])\n",
    "b = np.array([3, 2, 4, 1])\n",
    "x = LA.solve(a, b)\n",
    "x"
   ]
  },
  {
   "cell_type": "code",
   "execution_count": 23,
   "id": "11bff4cb-2952-4ab9-b98f-2fbd3b5e008f",
   "metadata": {},
   "outputs": [
    {
     "data": {
      "text/plain": [
       "array([3., 2., 4., 1.])"
      ]
     },
     "execution_count": 23,
     "metadata": {},
     "output_type": "execute_result"
    }
   ],
   "source": [
    "np.dot(a, x)"
   ]
  },
  {
   "cell_type": "markdown",
   "id": "ab2f5769-fe18-4dfc-93e5-cb20be32f24e",
   "metadata": {},
   "source": [
    "## 4."
   ]
  },
  {
   "cell_type": "markdown",
   "id": "b4c6e2cb-e3b9-4d83-9bfb-73bd0baefd42",
   "metadata": {
    "id": "YR00kYwJZS3e"
   },
   "source": [
    "\n",
    "$\\begin{pmatrix}\n",
    "\\left.\\begin{matrix}\n",
    "1 & 2 & 3 \\\\ \n",
    "4 & 5 & 6 \\\\ \n",
    "7 & 8 & 9\n",
    "\\end{matrix}\\right|\n",
    "\\begin{matrix}\n",
    "a\\\\ \n",
    "b\\\\\n",
    "c\n",
    "\\end{matrix}\n",
    "\\end{pmatrix}.$\n",
    "\n",
    "\n",
    "$\\begin{pmatrix}\n",
    "\\left.\\begin{matrix}\n",
    "1 & 2 & 3 \\\\ \n",
    "4 & 5 & 6 \\\\ \n",
    "0 & -6 & -12\n",
    "\\end{matrix}\\right|\n",
    "\\begin{matrix}\n",
    "a\\\\ \n",
    "b\\\\\n",
    "c-7a\n",
    "\\end{matrix}\n",
    "\\end{pmatrix}.$\n",
    "\n",
    "\n",
    "$\\begin{pmatrix}\n",
    "\\left.\\begin{matrix}\n",
    "1 & 2 & 3 \\\\ \n",
    "0 & -3 & -6 \\\\ \n",
    "0 & -6 & -12\n",
    "\\end{matrix}\\right|\n",
    "\\begin{matrix}\n",
    "a\\\\ \n",
    "b-4a\\\\\n",
    "c-7a\n",
    "\\end{matrix}\n",
    "\\end{pmatrix}.$\n"
   ]
  },
  {
   "cell_type": "markdown",
   "id": "2440425a-530b-4bcb-a48b-fde32161d573",
   "metadata": {},
   "source": [
    "$2(b - 4a) = c - 7a,\\\\\n",
    "7a - 8a + 2b - c = 0,\\\\\n",
    "-a + 2b - c = 0,\\\\\n",
    "a - 2b + c = 0.$"
   ]
  },
  {
   "cell_type": "markdown",
   "id": "1204729b-bec7-48fc-ab01-180b6ec87b13",
   "metadata": {
    "id": "J2D422I0ZS5N"
   },
   "source": [
    "## Практическое задание 4_2."
   ]
  },
  {
   "cell_type": "markdown",
   "id": "4dc0299e-c1ac-4abf-9a5c-6497a4fa3d29",
   "metadata": {
    "id": "ZBi7FV66fPKf"
   },
   "source": [
    "__1.__ Решите систему уравнений методом Крамера:\n",
    "\n",
    "   а) $\\begin{cases}\n",
    "x_{1}-2x_{2}=1 \\\\\n",
    "3x_{1}-4x_{2}=7\n",
    "\\end{cases}$\n",
    "    \n",
    "   б) $\\begin{cases}\n",
    "2x_{1}-x_{2}+5x_{3}=10 \\\\\n",
    "x_{1}+x_{2}-3x_{3}=-2 \\\\\n",
    "2x_{1}+4x_{2}+x_{3}=1\n",
    "\\end{cases}$\n",
    "\n",
    "__2*.__ Найдите $L$-матрицу $LU$-разложения для матрицы коэффициентов:\n",
    "\n",
    "   а)$$\\begin{pmatrix}\n",
    "1 & 2 & 4 \\\\ \n",
    "2 & 9 & 12 \\\\ \n",
    "3 & 26 & 30\n",
    "\\end{pmatrix}$$\n",
    "    \n",
    "   б)$$\\begin{pmatrix}\n",
    "1 & 1 & 2 & 4\\\\ \n",
    "2 & 5 & 8 & 9\\\\ \n",
    "3 & 18 & 29 & 18\\\\\n",
    "4 & 22 & 53 & 33\n",
    "\\end{pmatrix}$$\n",
    "    \n",
    "__3*.__ Решите систему линейных уравнений методом $LU$-разложения:\n",
    "\n",
    "$$\\begin{cases}\n",
    "2x_{1}+x_{2}+3x_{3}=1 \\\\\n",
    "11x_{1}+7x_{2}+5x_{3}=-6 \\\\\n",
    "9x_{1}+8x_{2}+4x_{3}=-5\n",
    "\\end{cases}$$\n",
    "\n",
    "__4*.__ Решите систему линейных уравнений методом Холецкого:\n",
    "\n",
    "$$\\begin{cases}\n",
    "81x_{1}-45x_{2}+45x_{3}=531 \\\\\n",
    "-45x_{1}+50x_{2}-15x_{3}=-460 \\\\\n",
    "45x_{1}-15x_{2}+38x_{3}=193\n",
    "\\end{cases}$$\n",
    "\n",
    "__5*.__ Напишите на Python программу с реализацией одного из изученных алгоритмов решения СЛАУ."
   ]
  },
  {
   "cell_type": "markdown",
   "id": "bfda9fb6-a4b4-4b10-ab1e-bc2f40a248e0",
   "metadata": {},
   "source": [
    "## 1."
   ]
  },
  {
   "cell_type": "markdown",
   "id": "8f6f7f07-53e5-4001-8813-2af0c4d4150e",
   "metadata": {
    "id": "THL8It2YfO2O"
   },
   "source": [
    "a)\n",
    "$\\begin{cases}\n",
    "x_{1}-2x_{2}=1, \\\\\n",
    "3x_{1}-4x_{2}=7.\n",
    "\\end{cases}$\n",
    "\n",
    "\n",
    "$detA=\\begin{vmatrix}\n",
    "1 & -2\\\\ \n",
    "3 & -4\n",
    "\\end{vmatrix}=\n",
    "-4+6=2\\neq 0,$\n",
    "\n",
    "система совместна.\n",
    "\n",
    "Oпределители $detA_{1}$, $detA_{2}$:\n",
    "\n",
    "$detA_{1}=\\begin{vmatrix}\n",
    "1 & -2\\\\\n",
    "7 & -4\n",
    "\\end{vmatrix}=\n",
    "-4+14=10,$\n",
    "\n",
    "$detA_{2}=\\begin{vmatrix}\n",
    "1 & 1\\\\\n",
    "3 & 7\n",
    "\\end{vmatrix}=\n",
    "7-3=4,$\n",
    "\n",
    "$$x_{1} = \\frac{detA_{1}}{detA} = \\frac{10}{2}=5,$$\n",
    "\n",
    "$$x_{2} = \\frac{detA_{2}}{detA} = \\frac{4}{2}=2,$$\n"
   ]
  },
  {
   "cell_type": "markdown",
   "id": "bad6adeb-73fa-4239-8914-d11b01465b37",
   "metadata": {
    "id": "THL8It2YfO2O"
   },
   "source": [
    "б)\n",
    "$\\begin{cases}\n",
    "2x_{1}-x_{2}+5x_{3}=10, \\\\\n",
    "x_{1}+x_{2}-3x_{3}=-2, \\\\\n",
    "2x_{1}+4x_{2}+x_{3}=1.\n",
    "\\end{cases}$\n",
    "\n",
    "\n",
    "$detA=\\begin{vmatrix}\n",
    "2 & -1 & 5\\\\ \n",
    "1 & 1 & -3\\\\ \n",
    "2 & 4 & 1\n",
    "\\end{vmatrix}=\n",
    "2+6+20-(10-24-1)=28+15=43\\neq 0,$\n",
    "\n",
    "система совместна.\n",
    "\n",
    "Oпределители $detA_{1}$, $detA_{2}$, $detA_{3}$:\n",
    "\n",
    "$detA_{1}=\\begin{vmatrix}\n",
    "10 & -1 & 5\\\\ \n",
    "-2 & 1 & -3\\\\ \n",
    "1 & 4 & 1\n",
    "\\end{vmatrix}=\n",
    "10+3-40-(5-120+2)=-27+113=86,$\n",
    "\n",
    "$detA_{2}=\\begin{vmatrix}\n",
    "2 & 10 & 5\\\\ \n",
    "1 & -2 & -3\\\\ \n",
    "2 & 1 & 1\n",
    "\\end{vmatrix}=\n",
    "-4-60+5-(-20-6+10)=-59+16=-43,$\n",
    "\n",
    "$detA_{3}=\\begin{vmatrix}\n",
    "2 & -1 & 10\\\\ \n",
    "1 & 1 & -2\\\\ \n",
    "2 & 4 & 1\n",
    "\\end{vmatrix}=\n",
    "2+4+40-(20-16-1)=43,$\n",
    "\n",
    "\n",
    "$$x_{1} = \\frac{detA_{1}}{detA} = \\frac{86}{43}=2,$$\n",
    "\n",
    "$$x_{2} = \\frac{detA_{2}}{detA} = \\frac{-43}{43}=-1,$$\n",
    "\n",
    "$$x_{3} = \\frac{detA_{3}}{detA} = \\frac{43}{43}=1.$$\n"
   ]
  },
  {
   "cell_type": "markdown",
   "id": "0b2fac71-48da-4d6e-bc8c-14bdea5dd942",
   "metadata": {},
   "source": [
    "## 2."
   ]
  },
  {
   "cell_type": "code",
   "execution_count": 5,
   "id": "1cf88e97-1010-4eb4-96bc-ac925482ba50",
   "metadata": {},
   "outputs": [
    {
     "name": "stdout",
     "output_type": "stream",
     "text": [
      "Collecting scipy\n",
      "  Downloading scipy-1.8.1-cp39-cp39-win_amd64.whl (36.9 MB)\n",
      "Requirement already satisfied: numpy<1.25.0,>=1.17.3 in c:\\users\\okayu\\appdata\\local\\programs\\python\\python39\\lib\\site-packages (from scipy) (1.22.4)\n",
      "Installing collected packages: scipy\n",
      "Successfully installed scipy-1.8.1\n",
      "Note: you may need to restart the kernel to use updated packages.\n"
     ]
    },
    {
     "name": "stderr",
     "output_type": "stream",
     "text": [
      "WARNING: You are using pip version 21.2.3; however, version 22.1.2 is available.\n",
      "You should consider upgrading via the 'C:\\Users\\okayu\\AppData\\Local\\Programs\\Python\\Python39\\python.exe -m pip install --upgrade pip' command.\n"
     ]
    }
   ],
   "source": [
    "pip install scipy"
   ]
  },
  {
   "cell_type": "code",
   "execution_count": 10,
   "id": "cfc53cf4-2766-4086-a01c-080abf29ba54",
   "metadata": {},
   "outputs": [],
   "source": [
    "from scipy.linalg import lu_factor, lu_solve"
   ]
  },
  {
   "cell_type": "code",
   "execution_count": 17,
   "id": "6406bdb9-0764-4240-bd41-78495fb1c2e2",
   "metadata": {},
   "outputs": [
    {
     "data": {
      "text/plain": [
       "array([[ 3.        , 26.        , 30.        ],\n",
       "       [ 0.66666667, -8.33333333, -8.        ],\n",
       "       [ 0.33333333,  0.8       ,  0.4       ]])"
      ]
     },
     "execution_count": 17,
     "metadata": {},
     "output_type": "execute_result"
    }
   ],
   "source": [
    "A = np.array([[1, 2, 4], [2, 9, 12], [3, 26, 30]])\n",
    "\n",
    "lu, piv = lu_factor(A)\n",
    "piv\n",
    "lu"
   ]
  },
  {
   "cell_type": "code",
   "execution_count": 18,
   "id": "c28283b4-3e41-4100-84ea-47d159892796",
   "metadata": {},
   "outputs": [
    {
     "data": {
      "text/plain": [
       "array([[  4.        ,  22.        ,  53.        ,  33.        ],\n",
       "       [  0.5       ,  -6.        , -18.5       ,  -7.5       ],\n",
       "       [  0.75      ,  -0.25      , -15.375     ,  -8.625     ],\n",
       "       [  0.25      ,   0.75      ,  -0.17073171,  -0.09756098]])"
      ]
     },
     "execution_count": 18,
     "metadata": {},
     "output_type": "execute_result"
    }
   ],
   "source": [
    "A = np.array([[1, 1, 2, 4], [2, 5, 8, 9], [3, 18, 29, 18], [4, 22, 53, 33]])\n",
    "\n",
    "lu, piv = lu_factor(A)\n",
    "piv\n",
    "lu"
   ]
  },
  {
   "cell_type": "markdown",
   "id": "6edc8c21-6ba5-46e9-87f2-32a6897a69c0",
   "metadata": {},
   "source": [
    "## 3."
   ]
  },
  {
   "cell_type": "code",
   "execution_count": 19,
   "id": "36c64d3a-ba15-4ed3-9e7b-56a1fde830fa",
   "metadata": {},
   "outputs": [
    {
     "data": {
      "text/plain": [
       "array([-1.,  0.,  1.])"
      ]
     },
     "execution_count": 19,
     "metadata": {},
     "output_type": "execute_result"
    }
   ],
   "source": [
    "A = np.array([[2, 1, 3], [11, 7, 5], [9, 8, 4]])\n",
    "b = np.array([1, -6, -5])\n",
    "\n",
    "lu, piv = lu_factor(A)\n",
    "\n",
    "x = lu_solve((lu, piv), b)\n",
    "x"
   ]
  },
  {
   "cell_type": "code",
   "execution_count": 15,
   "id": "ce6f8ccd-c6b2-4010-89db-cb31b02cf95a",
   "metadata": {},
   "outputs": [
    {
     "data": {
      "text/plain": [
       "array([ 1., -6., -5.])"
      ]
     },
     "execution_count": 15,
     "metadata": {},
     "output_type": "execute_result"
    }
   ],
   "source": [
    "np.dot(A, x)"
   ]
  },
  {
   "cell_type": "markdown",
   "id": "5cc5182f-75e5-4d6b-8a33-0eae0fbcb629",
   "metadata": {},
   "source": [
    "## 4."
   ]
  },
  {
   "cell_type": "code",
   "execution_count": 24,
   "id": "212647f8-3287-4da0-86dd-2a213acce0e9",
   "metadata": {},
   "outputs": [],
   "source": [
    "from scipy.linalg import cho_factor, cho_solve"
   ]
  },
  {
   "cell_type": "code",
   "execution_count": 30,
   "id": "c653aa2b-6d3c-40ef-bef0-e19b760e78e4",
   "metadata": {},
   "outputs": [
    {
     "data": {
      "text/plain": [
       "array([ 6., -5., -4.])"
      ]
     },
     "execution_count": 30,
     "metadata": {},
     "output_type": "execute_result"
    }
   ],
   "source": [
    "A = np.array([[81, -45, 45], [-45, 50, -15], [45, -15, 38]])\n",
    "b = np.array([531, -460, 193])\n",
    "\n",
    "c, low = cho_factor(A)\n",
    "x = cho_solve((c, low), b)\n",
    "x"
   ]
  },
  {
   "cell_type": "code",
   "execution_count": 31,
   "id": "b46c7891-550f-4a28-8488-d1012abe9513",
   "metadata": {},
   "outputs": [
    {
     "data": {
      "text/plain": [
       "array([ 531., -460.,  193.])"
      ]
     },
     "execution_count": 31,
     "metadata": {},
     "output_type": "execute_result"
    }
   ],
   "source": [
    "np.dot(A, x)"
   ]
  },
  {
   "cell_type": "code",
   "execution_count": null,
   "id": "bcd1ba70-1c55-4027-9f55-614878c29657",
   "metadata": {},
   "outputs": [],
   "source": []
  }
 ],
 "metadata": {
  "kernelspec": {
   "display_name": "Python 3 (ipykernel)",
   "language": "python",
   "name": "python3"
  },
  "language_info": {
   "codemirror_mode": {
    "name": "ipython",
    "version": 3
   },
   "file_extension": ".py",
   "mimetype": "text/x-python",
   "name": "python",
   "nbconvert_exporter": "python",
   "pygments_lexer": "ipython3",
   "version": "3.9.7"
  }
 },
 "nbformat": 4,
 "nbformat_minor": 5
}
