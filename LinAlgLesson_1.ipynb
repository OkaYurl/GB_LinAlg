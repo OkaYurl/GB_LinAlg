{
 "cells": [
  {
   "cell_type": "markdown",
   "id": "aaa40094-7b25-4ab4-a139-933b292ecc24",
   "metadata": {},
   "source": [
    "# Практическое задание 1"
   ]
  },
  {
   "cell_type": "markdown",
   "id": "181848ac-bd94-46ba-ac39-57785c2b2c58",
   "metadata": {},
   "source": [
    "### 1. Найдите скалярное произведение векторов 𝑥,𝑦∈ℝ:\n",
    "а) 𝑥=(0,−3,6), 𝑦=(−4,7,9);\n",
    "б) 𝑥=(7,−4,0,1), 𝑦=(−3,1,11,2)."
   ]
  },
  {
   "cell_type": "code",
   "execution_count": 69,
   "id": "07625141-0a65-4382-9d2b-1b8c6150df23",
   "metadata": {},
   "outputs": [
    {
     "name": "stdout",
     "output_type": "stream",
     "text": [
      "Requirement already satisfied: numpy in c:\\users\\okayu\\appdata\\local\\programs\\python\\python39\\lib\\site-packages (1.22.4)\n",
      "Note: you may need to restart the kernel to use updated packages.\n"
     ]
    },
    {
     "name": "stderr",
     "output_type": "stream",
     "text": [
      "WARNING: You are using pip version 21.2.3; however, version 22.1.2 is available.\n",
      "You should consider upgrading via the 'C:\\Users\\okayu\\AppData\\Local\\Programs\\Python\\Python39\\python.exe -m pip install --upgrade pip' command.\n"
     ]
    }
   ],
   "source": [
    "pip install numpy"
   ]
  },
  {
   "cell_type": "code",
   "execution_count": 70,
   "id": "22b6716d-20c4-4d04-94ef-6f024c97882c",
   "metadata": {},
   "outputs": [],
   "source": [
    "import numpy as np"
   ]
  },
  {
   "cell_type": "code",
   "execution_count": 71,
   "id": "e25053f7-e015-45d4-b73d-7167384b7dc8",
   "metadata": {},
   "outputs": [
    {
     "data": {
      "text/plain": [
       "33"
      ]
     },
     "execution_count": 71,
     "metadata": {},
     "output_type": "execute_result"
    }
   ],
   "source": [
    "xy=0+(-21)+54\n",
    "xy"
   ]
  },
  {
   "cell_type": "code",
   "execution_count": 72,
   "id": "4b7b1e9d-2761-4913-afa6-5d1206055ab1",
   "metadata": {},
   "outputs": [
    {
     "name": "stdout",
     "output_type": "stream",
     "text": [
      "Скалярное произведение x и y:\n",
      "33\n"
     ]
    }
   ],
   "source": [
    "x = np.array([0, -3, 6])\n",
    "y = np.array([-4, 7, 9])\n",
    "print(f'Скалярное произведение x и y:\\n{np.dot(x, y)}')"
   ]
  },
  {
   "cell_type": "code",
   "execution_count": 73,
   "id": "2bcd72aa-26d2-49a9-bba9-00322929c391",
   "metadata": {},
   "outputs": [
    {
     "data": {
      "text/plain": [
       "-23"
      ]
     },
     "execution_count": 73,
     "metadata": {},
     "output_type": "execute_result"
    }
   ],
   "source": [
    "xy=-21+(-4)+0+2\n",
    "xy"
   ]
  },
  {
   "cell_type": "code",
   "execution_count": 74,
   "id": "e8944c73-8233-4387-b90f-c39ba43b85c0",
   "metadata": {},
   "outputs": [
    {
     "name": "stdout",
     "output_type": "stream",
     "text": [
      "Скалярное произведение x и y:\n",
      "-23\n"
     ]
    }
   ],
   "source": [
    "x = np.array([7, -4, 0, 1])\n",
    "y = np.array([-3, 1, 11, 2])\n",
    "print(f'Скалярное произведение x и y:\\n{np.dot(x, y)}')"
   ]
  },
  {
   "cell_type": "markdown",
   "id": "e48581b0-935b-42e0-ac94-bb1505150afe",
   "metadata": {},
   "source": [
    "### 2. Найдите нормы векторов (4,2,4) и (12,3,4) и угол между ними."
   ]
  },
  {
   "cell_type": "code",
   "execution_count": 75,
   "id": "873fa335-42a3-4b10-b428-8d395fe5c4ba",
   "metadata": {},
   "outputs": [],
   "source": [
    "from numpy.linalg import norm"
   ]
  },
  {
   "cell_type": "code",
   "execution_count": 76,
   "id": "b93b691f-8c16-483f-aa41-d910c2fb0167",
   "metadata": {},
   "outputs": [],
   "source": [
    "x = np.array([4, 2, 4])\n",
    "y = np.array([12, 3, 4])"
   ]
  },
  {
   "cell_type": "code",
   "execution_count": 77,
   "id": "f53ef82c-3a1b-47e9-ab69-87bf48226e3b",
   "metadata": {},
   "outputs": [
    {
     "name": "stdout",
     "output_type": "stream",
     "text": [
      "Норма вектора x:\n",
      "6.0\n",
      "Норма вектора y:\n",
      "13.0\n"
     ]
    }
   ],
   "source": [
    "print(f'Норма вектора x:\\n{norm(x, ord=2)}')\n",
    "print(f'Норма вектора y:\\n{norm(y, ord=2)}')"
   ]
  },
  {
   "cell_type": "code",
   "execution_count": 78,
   "id": "bb8e9ff7-02e3-43de-a153-adecc4443770",
   "metadata": {},
   "outputs": [
    {
     "name": "stdout",
     "output_type": "stream",
     "text": [
      "Угол между векторами x и y:\n",
      "0.45687400353266105\n"
     ]
    }
   ],
   "source": [
    "cos_xy = np.dot(x, y) / (norm(x) * norm(y))\n",
    "print(f'Угол между векторами x и y:\\n{np.arccos(cos_xy)}')"
   ]
  },
  {
   "cell_type": "markdown",
   "id": "c7fa2394-dcf6-4140-a45d-cefdb57b4a5b",
   "metadata": {},
   "source": [
    "### 3. Определите, будет ли линейное пространство евклидовым, если за скалярное произведение принять:\n",
    "а) произведение длин векторов;\n",
    "б) утроенное обычное скалярное произведение векторов?"
   ]
  },
  {
   "cell_type": "markdown",
   "id": "1d2f377e-4aa6-4097-aa50-357a17a17a44",
   "metadata": {},
   "source": [
    "### Если в линейном пространстве определено скалярное произведение, то такое пространство называется евклидовым пространством. \n",
    "### В том числе утроенное скалярное произведение: 3·(x, y). Ответ б)\n"
   ]
  },
  {
   "cell_type": "markdown",
   "id": "fd500b29-46b5-441d-93dd-39f8c7f5facf",
   "metadata": {},
   "source": [
    "### 4. Выясните, какие из нижеперечисленных векторов образуют ортонормированный базис в линейном пространстве ℝ3:\n",
    "а) (1,0,0),(0,0,1);\n",
    "б) (1/2⎯⎯√,−1/2⎯⎯√,0),(1/2⎯⎯√,1/2⎯⎯√,0),(0,0,1);\n",
    "в) (1/2,−1/2,0),(0,1/2,1/2),(0,0,1);\n",
    "г) (1,0,0),(0,1,0),(0,0,1)?"
   ]
  },
  {
   "cell_type": "markdown",
   "id": "9479dc71-a4e8-41c1-b3e5-affddbd23a20",
   "metadata": {},
   "source": [
    "### условие ортонормированности (x,y)=0 и norm=1"
   ]
  },
  {
   "cell_type": "markdown",
   "id": "d1e8992e-596e-4695-b5bb-7f488c6ee1c4",
   "metadata": {},
   "source": [
    "### а) (1,0,0),(0,0,1)"
   ]
  },
  {
   "cell_type": "code",
   "execution_count": 79,
   "id": "51d3d6ae-7836-4c70-9b59-dacee0daf06c",
   "metadata": {},
   "outputs": [
    {
     "name": "stdout",
     "output_type": "stream",
     "text": [
      "Скалярное произведение a1 и a2:\n",
      "0\n",
      "Норма вектора a1:\n",
      "1.0\n",
      "Норма вектора a2:\n",
      "1.0\n"
     ]
    }
   ],
   "source": [
    "a1 = np.array([1, 0, 0])\n",
    "a2 = np.array([0, 0, 1])\n",
    "print(f'Скалярное произведение a1 и a2:\\n{np.dot(a1, a2)}')\n",
    "print(f'Норма вектора a1:\\n{norm(a1, ord=2)}')\n",
    "print(f'Норма вектора a2:\\n{norm(a2, ord=2)}')"
   ]
  },
  {
   "cell_type": "markdown",
   "id": "909a23b5-ae58-495e-8ea9-14d0ca8bccaa",
   "metadata": {},
   "source": [
    "### а) векторы ортонормированны"
   ]
  },
  {
   "cell_type": "markdown",
   "id": "254c2557-0ba5-4ce5-9323-47272f013f44",
   "metadata": {},
   "source": [
    "### б) (1/2⎯⎯√,−1/2⎯⎯√,0),(1/2⎯⎯√,1/2⎯⎯√,0),(0,0,1)"
   ]
  },
  {
   "cell_type": "code",
   "execution_count": 80,
   "id": "4c2196c0-13eb-4cc4-b610-c7593d8ba8c6",
   "metadata": {},
   "outputs": [
    {
     "data": {
      "text/plain": [
       "0.7071067811865475"
      ]
     },
     "execution_count": 80,
     "metadata": {},
     "output_type": "execute_result"
    }
   ],
   "source": [
    "s = 1/np.sqrt(2)\n",
    "s"
   ]
  },
  {
   "cell_type": "code",
   "execution_count": 81,
   "id": "bfb07cd8-c1d0-4b59-b181-0702ec4e9777",
   "metadata": {},
   "outputs": [
    {
     "name": "stdout",
     "output_type": "stream",
     "text": [
      "Скалярное произведение b1 b2 b3:\n",
      "[0. 0. 0.]\n",
      "Норма вектора b1:\n",
      "0.9999999999999999\n",
      "Норма вектора b2:\n",
      "0.9999999999999999\n",
      "Норма вектора b3:\n",
      "1.0\n"
     ]
    }
   ],
   "source": [
    "b1 = np.array([s, -s, 0])\n",
    "b2 = np.array([s, s, 0])\n",
    "b3 = np.array([0, 0, 1])\n",
    "\n",
    "print(f'Скалярное произведение b1 b2 b3:\\n{np.dot(np.dot(b1, b2), b3)}')\n",
    "print(f'Норма вектора b1:\\n{norm(b1, ord=2)}')\n",
    "print(f'Норма вектора b2:\\n{norm(b2, ord=2)}')\n",
    "print(f'Норма вектора b3:\\n{norm(b3, ord=2)}')"
   ]
  },
  {
   "cell_type": "markdown",
   "id": "4551d80c-bb02-4069-b197-7738f9c5eefb",
   "metadata": {},
   "source": [
    "### б) векторы ортонормированны"
   ]
  },
  {
   "cell_type": "markdown",
   "id": "5dda3cb7-e39d-4106-9434-cb8c939db70d",
   "metadata": {},
   "source": [
    "### в) (1/2,−1/2,0),(0,1/2,1/2),(0,0,1)"
   ]
  },
  {
   "cell_type": "code",
   "execution_count": 82,
   "id": "852dc627-9bfd-4f47-9411-47e154a4a942",
   "metadata": {},
   "outputs": [
    {
     "name": "stdout",
     "output_type": "stream",
     "text": [
      "Скалярное произведение в1, в2, в3:\n",
      "[ 0.    0.   -0.25]\n",
      "Норма вектора в1:\n",
      "0.7071067811865476\n",
      "Норма вектора в2:\n",
      "0.7071067811865476\n",
      "Норма вектора в3:\n",
      "1.0\n"
     ]
    }
   ],
   "source": [
    "v1 = np.array([1/2, -1/2, 0])\n",
    "v2 = np.array([0, 1/2, 1/2])\n",
    "v3 = np.array([0, 0, 1])\n",
    "print(f'Скалярное произведение в1, в2, в3:\\n{np.dot(np.dot(v1, v2), v3)}')\n",
    "print(f'Норма вектора в1:\\n{norm(v1, ord=2)}')\n",
    "print(f'Норма вектора в2:\\n{norm(v2, ord=2)}')\n",
    "print(f'Норма вектора в3:\\n{norm(v3, ord=2)}')"
   ]
  },
  {
   "cell_type": "markdown",
   "id": "da66eaae-fa59-4e07-9a2b-a3263e4b58b3",
   "metadata": {},
   "source": [
    "### в) векторы не ортонормированны"
   ]
  },
  {
   "cell_type": "markdown",
   "id": "122936ae-68ec-4979-8460-41630cb7e660",
   "metadata": {},
   "source": [
    "### г) (1,0,0),(0,1,0),(0,0,1)"
   ]
  },
  {
   "cell_type": "code",
   "execution_count": 83,
   "id": "5fa11cac-f349-4c88-afdd-1ddb86d33441",
   "metadata": {},
   "outputs": [
    {
     "name": "stdout",
     "output_type": "stream",
     "text": [
      "Скалярное произведение г1, г2, г3:\n",
      "[0 0 0]\n",
      "Норма вектора г1:\n",
      "1.0\n",
      "Норма вектора г2:\n",
      "1.0\n",
      "Норма вектора г3:\n",
      "1.0\n"
     ]
    }
   ],
   "source": [
    "g1 = np.array([1, 0, 0])\n",
    "g2 = np.array([0, 1, 0])\n",
    "g3 = np.array([0, 0, 1])\n",
    "\n",
    "print(f'Скалярное произведение г1, г2, г3:\\n{np.dot(np.dot(g1, g2), g3)}')\n",
    "print(f'Норма вектора г1:\\n{norm(g1, ord=2)}')\n",
    "print(f'Норма вектора г2:\\n{norm(g2, ord=2)}')\n",
    "print(f'Норма вектора г3:\\n{norm(g3, ord=2)}')"
   ]
  },
  {
   "cell_type": "markdown",
   "id": "3abaad8c-0a38-49b3-97d7-5f6fb3f979fc",
   "metadata": {},
   "source": [
    "### г) векторы ортонормированны"
   ]
  },
  {
   "cell_type": "code",
   "execution_count": null,
   "id": "67461145-7fe9-47bb-9e48-3cd1ad69d35d",
   "metadata": {},
   "outputs": [],
   "source": []
  }
 ],
 "metadata": {
  "kernelspec": {
   "display_name": "Python 3 (ipykernel)",
   "language": "python",
   "name": "python3"
  },
  "language_info": {
   "codemirror_mode": {
    "name": "ipython",
    "version": 3
   },
   "file_extension": ".py",
   "mimetype": "text/x-python",
   "name": "python",
   "nbconvert_exporter": "python",
   "pygments_lexer": "ipython3",
   "version": "3.9.7"
  }
 },
 "nbformat": 4,
 "nbformat_minor": 5
}
