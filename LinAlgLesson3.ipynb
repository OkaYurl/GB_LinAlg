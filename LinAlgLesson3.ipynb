{
 "cells": [
  {
   "cell_type": "markdown",
   "id": "47f591dc-be8a-420d-b6fd-69a781ec022c",
   "metadata": {},
   "source": [
    "# Практическое задание 3."
   ]
  },
  {
   "cell_type": "markdown",
   "id": "bbe0f22e-41d2-407c-af25-fc062c174ad9",
   "metadata": {
    "id": "sNOgFRFrCG2S"
   },
   "source": [
    "\n",
    "\n",
    "\n",
    "\n",
    "__1.__ Найдите собственные векторы и собственные значения для линейного оператора, заданного матрицей:\n",
    "\n",
    "$$A=\\begin{pmatrix}\n",
    "-1 & -6\\\\ \n",
    "2 & 6\n",
    "\\end{pmatrix}.$$\n",
    "\n",
    "__2.__ Дан оператор поворота на 180 градусов, задаваемый матрицей:\n",
    "\n",
    "$$A=\\begin{pmatrix}\n",
    "-1 & 0\\\\ \n",
    "0 & -1\n",
    "\\end{pmatrix}.$$\n",
    "\n",
    "Покажите, что __любой__ вектор считается для него собственным.\n",
    "\n",
    "__3.__ Пусть линейный оператор задан матрицей:\n",
    "\n",
    "$$A=\\begin{pmatrix}\n",
    "1 & 1\\\\ \n",
    "-1 & 3\n",
    "\\end{pmatrix}.$$\n",
    "\n",
    "Установите, считается ли вектор $x=(1,1)$ собственным вектором этого линейного оператора.\n",
    "\n"
   ]
  },
  {
   "cell_type": "markdown",
   "id": "2d90ed74-8fef-42e6-8dcd-14f421a261eb",
   "metadata": {
    "id": "fZvLaIPW0JY1"
   },
   "source": [
    "**4.** Пусть линейный оператор задан матрицей:\n",
    "\n",
    "$$A=\\begin{pmatrix} 0 & 3 & 0\\\\ 3 & 0 & 0\\\\ 0 & 0 & 3 \\end{pmatrix}.$$\n",
    "\n",
    "Установите, считается ли вектор $x=(3, -3, -4)$ собственным вектором этого линейного оператора."
   ]
  },
  {
   "cell_type": "markdown",
   "id": "3fecac0c-d6c7-416d-a740-06b236298ecf",
   "metadata": {},
   "source": [
    "## 1."
   ]
  },
  {
   "cell_type": "code",
   "execution_count": 1,
   "id": "53d8ce8e-d518-400a-a797-fe35972f05b6",
   "metadata": {},
   "outputs": [
    {
     "name": "stdout",
     "output_type": "stream",
     "text": [
      "Requirement already satisfied: numpy in c:\\users\\okayu\\appdata\\local\\programs\\python\\python39\\lib\\site-packages (1.22.4)\n",
      "Note: you may need to restart the kernel to use updated packages.\n"
     ]
    },
    {
     "name": "stderr",
     "output_type": "stream",
     "text": [
      "WARNING: You are using pip version 21.2.3; however, version 22.1.2 is available.\n",
      "You should consider upgrading via the 'C:\\Users\\okayu\\AppData\\Local\\Programs\\Python\\Python39\\python.exe -m pip install --upgrade pip' command.\n"
     ]
    }
   ],
   "source": [
    "pip install numpy"
   ]
  },
  {
   "cell_type": "code",
   "execution_count": 2,
   "id": "36626bd5-9e49-49a2-a0bb-b0e976b90de5",
   "metadata": {},
   "outputs": [],
   "source": [
    "import numpy as np\n",
    "np.set_printoptions(precision=0, suppress=True)"
   ]
  },
  {
   "cell_type": "code",
   "execution_count": 3,
   "id": "997bac29-98c4-4490-aee9-abfb4f3d6aef",
   "metadata": {},
   "outputs": [
    {
     "name": "stdout",
     "output_type": "stream",
     "text": [
      "Матрица A:\n",
      "[[-1 -6]\n",
      " [ 2  6]]\n",
      "Собственные векторы:\n",
      "[[-1.  1.]\n",
      " [ 0. -1.]]\n",
      "Собственные значения:\n",
      "[2. 3.]\n"
     ]
    }
   ],
   "source": [
    "A = np.array([[-1, -6], [2, 6]])\n",
    "w, v = np.linalg.eig(A)\n",
    " \n",
    "print(f'Матрица A:\\n{A}')\n",
    "print(f'Собственные векторы:\\n{v}')\n",
    "print(f'Собственные значения:\\n{w}')"
   ]
  },
  {
   "cell_type": "markdown",
   "id": "d7c15a7a-9413-4359-acb1-0febbf5b9b2b",
   "metadata": {},
   "source": [
    "## 2."
   ]
  },
  {
   "cell_type": "code",
   "execution_count": 4,
   "id": "d3a39fcf-b518-4a28-ad8a-047b6e2454cf",
   "metadata": {},
   "outputs": [
    {
     "name": "stdout",
     "output_type": "stream",
     "text": [
      "Матрица A:\n",
      "[[-1  0]\n",
      " [ 0 -1]]\n"
     ]
    }
   ],
   "source": [
    "A = np.array([[-1, 0], [0, -1]])\n",
    "print(f'Матрица A:\\n{A}')"
   ]
  },
  {
   "cell_type": "markdown",
   "id": "cd7af7c0-e27e-4ead-bd6e-a66930989ccb",
   "metadata": {},
   "source": [
    "$\\begin{pmatrix}\n",
    "-1 & 0\\\\ \n",
    "0 & -1\n",
    "\\end{pmatrix}\n",
    "\\begin{pmatrix}\n",
    "x\\\\ \n",
    "y\n",
    "\\end{pmatrix}=\n",
    "\\lambda\n",
    "\\begin{pmatrix}\n",
    "x\\\\ \n",
    "y\n",
    "\\end{pmatrix}. \\lambda=?\n",
    "$"
   ]
  },
  {
   "cell_type": "markdown",
   "id": "a3be39af-bdab-4781-99a3-d140430b101e",
   "metadata": {},
   "source": [
    "$\\begin{pmatrix}\n",
    "-1 & 0\\\\ \n",
    "0 & -1\n",
    "\\end{pmatrix}\n",
    "\\begin{pmatrix}\n",
    "x\\\\ \n",
    "y\n",
    "\\end{pmatrix}=\n",
    "\\begin{pmatrix}\n",
    "-x\\\\ \n",
    "-y\n",
    "\\end{pmatrix}=\n",
    "(-1)\n",
    "\\begin{pmatrix}\n",
    "x\\\\ \n",
    "y\n",
    "\\end{pmatrix}\n",
    "$"
   ]
  },
  {
   "cell_type": "markdown",
   "id": "27ea0622-e382-417e-9282-1e121f1ea820",
   "metadata": {},
   "source": [
    "Таким образом, для линейного оператора А любой вектор будет собственным и зеркальным (с поворотом 180 гр)"
   ]
  },
  {
   "cell_type": "markdown",
   "id": "f5bd033e-bfb5-4344-9168-368d11cdf74c",
   "metadata": {},
   "source": [
    "## 3."
   ]
  },
  {
   "cell_type": "code",
   "execution_count": 5,
   "id": "84fce7fd-0921-4994-8fd8-1a1fdd0ce6cb",
   "metadata": {},
   "outputs": [
    {
     "name": "stdout",
     "output_type": "stream",
     "text": [
      "Матрица Ax\n",
      "[2 2]\n"
     ]
    }
   ],
   "source": [
    "A = np.array([[1, 1], [-1, 3]])\n",
    "x = np.array([1, 1])\n",
    "print(f'Матрица Ax\\n{np.dot(A, x)}')"
   ]
  },
  {
   "cell_type": "markdown",
   "id": "a28a23e4-3dcb-49d9-98e1-97dae9f0212a",
   "metadata": {},
   "source": [
    "$\\begin{cases}\n",
    "\\lambda=2\\\\ \n",
    "\\lambda=2\n",
    "\\end{cases}$"
   ]
  },
  {
   "cell_type": "markdown",
   "id": "e5387fd0-c45a-4c89-b2f8-0c25d5019bd8",
   "metadata": {},
   "source": [
    "Вектор $x=(1,1)$ считается собственным вектором линейного оператора, заданного матрицей $A$, $\\lambda=2$"
   ]
  },
  {
   "cell_type": "markdown",
   "id": "ae06b996-39ed-4ec0-af18-1687c825facd",
   "metadata": {},
   "source": [
    "## 4."
   ]
  },
  {
   "cell_type": "code",
   "execution_count": 6,
   "id": "6ac3ea53-519d-4b18-be11-14179e977939",
   "metadata": {},
   "outputs": [
    {
     "name": "stdout",
     "output_type": "stream",
     "text": [
      "Матрица Ax\n",
      "[ -9   9 -12]\n"
     ]
    }
   ],
   "source": [
    "A = np.array([[0, 3, 0], [3, 0, 0], [0, 0, 3]])\n",
    "x = np.array([3, -3, -4])\n",
    "print(f'Матрица Ax\\n{np.dot(A, x)}')"
   ]
  },
  {
   "cell_type": "markdown",
   "id": "ee285c17-b390-419d-ba22-3921025e2dea",
   "metadata": {},
   "source": [
    "$\\begin{cases}\n",
    "-9=3\\cdot\\lambda \\\\ \n",
    "9=-3\\cdot\\lambda \\\\ \n",
    "-12=-4\\cdot\\lambda\n",
    "\\end{cases}\n",
    "\\Rightarrow\n",
    "\\begin{cases}\n",
    "\\lambda=-3\\\\ \n",
    "\\lambda=3\\\\ \n",
    "\\lambda=3\n",
    "\\end{cases}$"
   ]
  },
  {
   "cell_type": "markdown",
   "id": "d0f92c3a-a9ba-47dc-957e-b87af24ffb31",
   "metadata": {},
   "source": [
    "Cистема не имеет смысла, следовательно, вектор $x=(3,-3,-4)$ не считается собственным вектором линейного оператора, заданного матрицей $A$"
   ]
  },
  {
   "cell_type": "code",
   "execution_count": null,
   "id": "7c2edb2a-2c6a-46a7-957e-5f8c6ca663b8",
   "metadata": {},
   "outputs": [],
   "source": []
  }
 ],
 "metadata": {
  "kernelspec": {
   "display_name": "Python 3 (ipykernel)",
   "language": "python",
   "name": "python3"
  },
  "language_info": {
   "codemirror_mode": {
    "name": "ipython",
    "version": 3
   },
   "file_extension": ".py",
   "mimetype": "text/x-python",
   "name": "python",
   "nbconvert_exporter": "python",
   "pygments_lexer": "ipython3",
   "version": "3.9.7"
  }
 },
 "nbformat": 4,
 "nbformat_minor": 5
}
